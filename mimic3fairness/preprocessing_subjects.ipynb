{
 "cells": [
  {
   "cell_type": "code",
   "execution_count": 1,
   "metadata": {
    "collapsed": true,
    "ExecuteTime": {
     "start_time": "2023-08-22T23:22:49.863853Z",
     "end_time": "2023-08-22T23:22:49.984915Z"
    }
   },
   "outputs": [],
   "source": [
    "import numpy as np\n",
    "import pandas as pd\n",
    "import os\n",
    "\n",
    "from matplotlib import pyplot as plt\n",
    "from sklearn.preprocessing import OneHotEncoder\n",
    "import numpy as np\n",
    "import pandas as pd\n",
    "import os\n",
    "\n",
    "from matplotlib import pyplot as plt\n",
    "from sklearn.preprocessing import OneHotEncoder\n",
    "\n",
    "mimic3_path = os.path.join(os.path.normpath(os.getcwd() + os.sep + os.pardir), 'data')"
   ]
  },
  {
   "cell_type": "code",
   "execution_count": 2,
   "outputs": [],
   "source": [
    "# preprocessing functions\n",
    "# nan values are assigned the privileged class\n",
    "def get_religion_category(religion):\n",
    "    if (religion == \"JEWISH\") or (religion == \"OTHER\") or (religion == \"BUDDHIST\") or (religion == \"MUSLIM\") or (religion == \"HINDU\") or (religion == \"HEBREW\"):\n",
    "        return 0  # unprivileged\n",
    "    return 1  # privileged\n",
    "\n",
    "def get_language_category(lang):\n",
    "    if (lang == \"ENGL\") or pd.isna(lang):\n",
    "        return 1  # privileged\n",
    "    return 0  # unprivileged\n",
    "\n",
    "def get_age(df):\n",
    "    adm.ADMITTIME = pd.to_datetime(adm.ADMITTIME).dt.date\n",
    "    adm.DOB = pd.to_datetime(adm.DOB).dt.date\n",
    "    adm['AGE'] = adm.apply(lambda e:int((e.ADMITTIME - e.DOB).days/365.242), axis=1)\n",
    "    adm.loc[adm.AGE <= 0, 'AGE'] = 90\n",
    "    adm.loc[adm.AGE >= 300, 'AGE'] = 90\n",
    "    return df\n",
    "\n",
    "def get_age_category(age):\n",
    "    if age<65 or pd.isna(age):\n",
    "        return 1  # privileged <65 plus nans\n",
    "    return 0  # unprivileged 65+\n",
    "\n",
    "def get_insurance_category(insurance):\n",
    "    # considers government insurance in unprivileged class\n",
    "    # if insurance == \"Private\" or pd.isna(insurance):\n",
    "    #     return 1  # privileged\n",
    "    # return 0  # unprivileged\n",
    "\n",
    "    # considers only uninsured in unprivileged class\n",
    "    if insurance == \"Self Pay\":\n",
    "        return 0\n",
    "    return 1\n",
    "\n",
    "def get_ethnicity_category(ethnicity):\n",
    "    if (\"WHITE\" in ethnicity) or (pd.isna(ethnicity)):\n",
    "        return 1  # privileged\n",
    "    return 0  # unprivileged"
   ],
   "metadata": {
    "collapsed": false,
    "ExecuteTime": {
     "start_time": "2023-08-22T23:22:49.991911Z",
     "end_time": "2023-08-22T23:22:50.001383Z"
    }
   }
  },
  {
   "cell_type": "code",
   "execution_count": 3,
   "outputs": [],
   "source": [
    "patients = pd.read_csv(os.path.join(mimic3_path, 'PATIENTS.csv'))\n",
    "adm = pd.read_csv(os.path.join(mimic3_path, 'ADMISSIONS.csv'))"
   ],
   "metadata": {
    "collapsed": false,
    "ExecuteTime": {
     "start_time": "2023-08-22T23:22:50.004336Z",
     "end_time": "2023-08-22T23:22:50.341290Z"
    }
   }
  },
  {
   "cell_type": "code",
   "execution_count": 4,
   "outputs": [],
   "source": [
    "# keep only necessary columns\n",
    "patients = patients[['SUBJECT_ID', 'GENDER', 'DOB']]\n",
    "adm = adm[['SUBJECT_ID', 'LANGUAGE', 'INSURANCE', 'RELIGION', 'ETHNICITY', 'ADMITTIME']]"
   ],
   "metadata": {
    "collapsed": false,
    "ExecuteTime": {
     "start_time": "2023-08-22T23:22:50.344283Z",
     "end_time": "2023-08-22T23:22:50.371120Z"
    }
   }
  },
  {
   "cell_type": "code",
   "execution_count": 5,
   "outputs": [
    {
     "data": {
      "text/plain": "    SUBJECT_ID GENDER                  DOB\n0          249      F  2075-03-13 00:00:00\n1          250      F  2164-12-27 00:00:00\n2          251      M  2090-03-15 00:00:00\n3          252      M  2078-03-06 00:00:00\n4          253      F  2089-11-26 00:00:00\n5          255      M  2109-08-05 00:00:00\n6          256      M  2086-07-31 00:00:00\n7          257      F  2031-04-03 00:00:00\n8          258      F  2124-09-19 00:00:00\n9          260      F  2105-03-23 00:00:00\n10         261      M  2025-08-04 00:00:00\n11         262      M  2090-01-05 00:00:00\n12         263      M  2104-06-18 00:00:00\n13         264      F  2162-11-30 00:00:00\n14         265      M  2093-08-01 00:00:00\n15         266      F  2090-12-17 00:00:00\n16         267      F  2131-09-05 00:00:00\n17         268      F  2132-02-21 00:00:00\n18         269      M  2130-09-30 00:00:00\n19         270      M  2048-05-26 00:00:00\n20         663      F  2086-05-12 00:00:00\n21         664      F  2097-04-12 00:00:00\n22         665      M  2052-05-20 00:00:00\n23         666      F  2069-08-26 00:00:00\n24         667      F  2053-09-17 00:00:00\n25         668      F  2096-08-18 00:00:00\n26         669      M  2121-10-20 00:00:00\n27         670      M  2080-09-30 00:00:00\n28         671      M  2148-03-27 00:00:00\n29         672      M  2152-10-21 00:00:00\n..         ...    ...                  ...\n70         719      M  2088-04-27 00:00:00\n71         720      F  2108-08-25 00:00:00\n72         721      M  2075-02-23 00:00:00\n73         722      F  2153-12-17 00:00:00\n74         723      F  2059-07-02 00:00:00\n75         724      M  2137-03-07 00:00:00\n76         725      M  2056-08-06 00:00:00\n77         726      F  2046-09-03 00:00:00\n78         727      F  2124-08-13 00:00:00\n79         728      M  2070-08-14 00:00:00\n80         729      F  2066-07-12 00:00:00\n81         730      M  2167-02-07 00:00:00\n82         731      F  2073-11-29 00:00:00\n83         732      F  2041-10-02 00:00:00\n84         733      M  2088-11-21 00:00:00\n85         734      F  2102-05-28 00:00:00\n86         735      F  2068-03-06 00:00:00\n87         736      F  2083-09-14 00:00:00\n88         737      F  2160-04-20 00:00:00\n89         738      M  2126-11-06 00:00:00\n90         739      F  2137-04-27 00:00:00\n91         740      F  2094-06-06 00:00:00\n92         741      M  2072-06-17 00:00:00\n93         742      F  2116-07-25 00:00:00\n94         743      M  2034-06-19 00:00:00\n95         744      M  2024-05-24 00:00:00\n96         745      M  2142-06-14 00:00:00\n97         746      M  2085-06-02 00:00:00\n98         747      M  2063-03-10 00:00:00\n99         748      M  2081-07-13 00:00:00\n\n[100 rows x 3 columns]",
      "text/html": "<div>\n<style scoped>\n    .dataframe tbody tr th:only-of-type {\n        vertical-align: middle;\n    }\n\n    .dataframe tbody tr th {\n        vertical-align: top;\n    }\n\n    .dataframe thead th {\n        text-align: right;\n    }\n</style>\n<table border=\"1\" class=\"dataframe\">\n  <thead>\n    <tr style=\"text-align: right;\">\n      <th></th>\n      <th>SUBJECT_ID</th>\n      <th>GENDER</th>\n      <th>DOB</th>\n    </tr>\n  </thead>\n  <tbody>\n    <tr>\n      <th>0</th>\n      <td>249</td>\n      <td>F</td>\n      <td>2075-03-13 00:00:00</td>\n    </tr>\n    <tr>\n      <th>1</th>\n      <td>250</td>\n      <td>F</td>\n      <td>2164-12-27 00:00:00</td>\n    </tr>\n    <tr>\n      <th>2</th>\n      <td>251</td>\n      <td>M</td>\n      <td>2090-03-15 00:00:00</td>\n    </tr>\n    <tr>\n      <th>3</th>\n      <td>252</td>\n      <td>M</td>\n      <td>2078-03-06 00:00:00</td>\n    </tr>\n    <tr>\n      <th>4</th>\n      <td>253</td>\n      <td>F</td>\n      <td>2089-11-26 00:00:00</td>\n    </tr>\n    <tr>\n      <th>5</th>\n      <td>255</td>\n      <td>M</td>\n      <td>2109-08-05 00:00:00</td>\n    </tr>\n    <tr>\n      <th>6</th>\n      <td>256</td>\n      <td>M</td>\n      <td>2086-07-31 00:00:00</td>\n    </tr>\n    <tr>\n      <th>7</th>\n      <td>257</td>\n      <td>F</td>\n      <td>2031-04-03 00:00:00</td>\n    </tr>\n    <tr>\n      <th>8</th>\n      <td>258</td>\n      <td>F</td>\n      <td>2124-09-19 00:00:00</td>\n    </tr>\n    <tr>\n      <th>9</th>\n      <td>260</td>\n      <td>F</td>\n      <td>2105-03-23 00:00:00</td>\n    </tr>\n    <tr>\n      <th>10</th>\n      <td>261</td>\n      <td>M</td>\n      <td>2025-08-04 00:00:00</td>\n    </tr>\n    <tr>\n      <th>11</th>\n      <td>262</td>\n      <td>M</td>\n      <td>2090-01-05 00:00:00</td>\n    </tr>\n    <tr>\n      <th>12</th>\n      <td>263</td>\n      <td>M</td>\n      <td>2104-06-18 00:00:00</td>\n    </tr>\n    <tr>\n      <th>13</th>\n      <td>264</td>\n      <td>F</td>\n      <td>2162-11-30 00:00:00</td>\n    </tr>\n    <tr>\n      <th>14</th>\n      <td>265</td>\n      <td>M</td>\n      <td>2093-08-01 00:00:00</td>\n    </tr>\n    <tr>\n      <th>15</th>\n      <td>266</td>\n      <td>F</td>\n      <td>2090-12-17 00:00:00</td>\n    </tr>\n    <tr>\n      <th>16</th>\n      <td>267</td>\n      <td>F</td>\n      <td>2131-09-05 00:00:00</td>\n    </tr>\n    <tr>\n      <th>17</th>\n      <td>268</td>\n      <td>F</td>\n      <td>2132-02-21 00:00:00</td>\n    </tr>\n    <tr>\n      <th>18</th>\n      <td>269</td>\n      <td>M</td>\n      <td>2130-09-30 00:00:00</td>\n    </tr>\n    <tr>\n      <th>19</th>\n      <td>270</td>\n      <td>M</td>\n      <td>2048-05-26 00:00:00</td>\n    </tr>\n    <tr>\n      <th>20</th>\n      <td>663</td>\n      <td>F</td>\n      <td>2086-05-12 00:00:00</td>\n    </tr>\n    <tr>\n      <th>21</th>\n      <td>664</td>\n      <td>F</td>\n      <td>2097-04-12 00:00:00</td>\n    </tr>\n    <tr>\n      <th>22</th>\n      <td>665</td>\n      <td>M</td>\n      <td>2052-05-20 00:00:00</td>\n    </tr>\n    <tr>\n      <th>23</th>\n      <td>666</td>\n      <td>F</td>\n      <td>2069-08-26 00:00:00</td>\n    </tr>\n    <tr>\n      <th>24</th>\n      <td>667</td>\n      <td>F</td>\n      <td>2053-09-17 00:00:00</td>\n    </tr>\n    <tr>\n      <th>25</th>\n      <td>668</td>\n      <td>F</td>\n      <td>2096-08-18 00:00:00</td>\n    </tr>\n    <tr>\n      <th>26</th>\n      <td>669</td>\n      <td>M</td>\n      <td>2121-10-20 00:00:00</td>\n    </tr>\n    <tr>\n      <th>27</th>\n      <td>670</td>\n      <td>M</td>\n      <td>2080-09-30 00:00:00</td>\n    </tr>\n    <tr>\n      <th>28</th>\n      <td>671</td>\n      <td>M</td>\n      <td>2148-03-27 00:00:00</td>\n    </tr>\n    <tr>\n      <th>29</th>\n      <td>672</td>\n      <td>M</td>\n      <td>2152-10-21 00:00:00</td>\n    </tr>\n    <tr>\n      <th>...</th>\n      <td>...</td>\n      <td>...</td>\n      <td>...</td>\n    </tr>\n    <tr>\n      <th>70</th>\n      <td>719</td>\n      <td>M</td>\n      <td>2088-04-27 00:00:00</td>\n    </tr>\n    <tr>\n      <th>71</th>\n      <td>720</td>\n      <td>F</td>\n      <td>2108-08-25 00:00:00</td>\n    </tr>\n    <tr>\n      <th>72</th>\n      <td>721</td>\n      <td>M</td>\n      <td>2075-02-23 00:00:00</td>\n    </tr>\n    <tr>\n      <th>73</th>\n      <td>722</td>\n      <td>F</td>\n      <td>2153-12-17 00:00:00</td>\n    </tr>\n    <tr>\n      <th>74</th>\n      <td>723</td>\n      <td>F</td>\n      <td>2059-07-02 00:00:00</td>\n    </tr>\n    <tr>\n      <th>75</th>\n      <td>724</td>\n      <td>M</td>\n      <td>2137-03-07 00:00:00</td>\n    </tr>\n    <tr>\n      <th>76</th>\n      <td>725</td>\n      <td>M</td>\n      <td>2056-08-06 00:00:00</td>\n    </tr>\n    <tr>\n      <th>77</th>\n      <td>726</td>\n      <td>F</td>\n      <td>2046-09-03 00:00:00</td>\n    </tr>\n    <tr>\n      <th>78</th>\n      <td>727</td>\n      <td>F</td>\n      <td>2124-08-13 00:00:00</td>\n    </tr>\n    <tr>\n      <th>79</th>\n      <td>728</td>\n      <td>M</td>\n      <td>2070-08-14 00:00:00</td>\n    </tr>\n    <tr>\n      <th>80</th>\n      <td>729</td>\n      <td>F</td>\n      <td>2066-07-12 00:00:00</td>\n    </tr>\n    <tr>\n      <th>81</th>\n      <td>730</td>\n      <td>M</td>\n      <td>2167-02-07 00:00:00</td>\n    </tr>\n    <tr>\n      <th>82</th>\n      <td>731</td>\n      <td>F</td>\n      <td>2073-11-29 00:00:00</td>\n    </tr>\n    <tr>\n      <th>83</th>\n      <td>732</td>\n      <td>F</td>\n      <td>2041-10-02 00:00:00</td>\n    </tr>\n    <tr>\n      <th>84</th>\n      <td>733</td>\n      <td>M</td>\n      <td>2088-11-21 00:00:00</td>\n    </tr>\n    <tr>\n      <th>85</th>\n      <td>734</td>\n      <td>F</td>\n      <td>2102-05-28 00:00:00</td>\n    </tr>\n    <tr>\n      <th>86</th>\n      <td>735</td>\n      <td>F</td>\n      <td>2068-03-06 00:00:00</td>\n    </tr>\n    <tr>\n      <th>87</th>\n      <td>736</td>\n      <td>F</td>\n      <td>2083-09-14 00:00:00</td>\n    </tr>\n    <tr>\n      <th>88</th>\n      <td>737</td>\n      <td>F</td>\n      <td>2160-04-20 00:00:00</td>\n    </tr>\n    <tr>\n      <th>89</th>\n      <td>738</td>\n      <td>M</td>\n      <td>2126-11-06 00:00:00</td>\n    </tr>\n    <tr>\n      <th>90</th>\n      <td>739</td>\n      <td>F</td>\n      <td>2137-04-27 00:00:00</td>\n    </tr>\n    <tr>\n      <th>91</th>\n      <td>740</td>\n      <td>F</td>\n      <td>2094-06-06 00:00:00</td>\n    </tr>\n    <tr>\n      <th>92</th>\n      <td>741</td>\n      <td>M</td>\n      <td>2072-06-17 00:00:00</td>\n    </tr>\n    <tr>\n      <th>93</th>\n      <td>742</td>\n      <td>F</td>\n      <td>2116-07-25 00:00:00</td>\n    </tr>\n    <tr>\n      <th>94</th>\n      <td>743</td>\n      <td>M</td>\n      <td>2034-06-19 00:00:00</td>\n    </tr>\n    <tr>\n      <th>95</th>\n      <td>744</td>\n      <td>M</td>\n      <td>2024-05-24 00:00:00</td>\n    </tr>\n    <tr>\n      <th>96</th>\n      <td>745</td>\n      <td>M</td>\n      <td>2142-06-14 00:00:00</td>\n    </tr>\n    <tr>\n      <th>97</th>\n      <td>746</td>\n      <td>M</td>\n      <td>2085-06-02 00:00:00</td>\n    </tr>\n    <tr>\n      <th>98</th>\n      <td>747</td>\n      <td>M</td>\n      <td>2063-03-10 00:00:00</td>\n    </tr>\n    <tr>\n      <th>99</th>\n      <td>748</td>\n      <td>M</td>\n      <td>2081-07-13 00:00:00</td>\n    </tr>\n  </tbody>\n</table>\n<p>100 rows × 3 columns</p>\n</div>"
     },
     "execution_count": 5,
     "metadata": {},
     "output_type": "execute_result"
    }
   ],
   "source": [
    "patients.head(100)"
   ],
   "metadata": {
    "collapsed": false,
    "ExecuteTime": {
     "start_time": "2023-08-22T23:22:50.367128Z",
     "end_time": "2023-08-22T23:22:50.413200Z"
    }
   }
  },
  {
   "cell_type": "code",
   "execution_count": 6,
   "outputs": [
    {
     "data": {
      "text/plain": "    SUBJECT_ID LANGUAGE   INSURANCE           RELIGION  \\\n0           22      NaN     Private       UNOBTAINABLE   \n1           23      NaN    Medicare           CATHOLIC   \n2           23     ENGL    Medicare           CATHOLIC   \n3           24      NaN     Private  PROTESTANT QUAKER   \n4           25      NaN     Private       UNOBTAINABLE   \n5           26      NaN    Medicare           CATHOLIC   \n6           27      NaN     Private           CATHOLIC   \n7           28      NaN    Medicare           CATHOLIC   \n8           30      NaN    Medicare           CATHOLIC   \n9           31      NaN    Medicare           CATHOLIC   \n10          32      NaN    Medicaid       UNOBTAINABLE   \n11          33      NaN    Medicare  PROTESTANT QUAKER   \n12          34     ENGL    Medicare           CATHOLIC   \n13          34     ENGL    Medicare           CATHOLIC   \n14          35      NaN    Medicare           CATHOLIC   \n15          36     ENGL    Medicare      NOT SPECIFIED   \n16          36     ENGL    Medicare      NOT SPECIFIED   \n17          36     ENGL    Medicare      NOT SPECIFIED   \n18          37      NaN    Medicare             JEWISH   \n19          38      NaN    Medicare           CATHOLIC   \n20          39      NaN     Private      NOT SPECIFIED   \n21          41      NaN     Private  PROTESTANT QUAKER   \n22         357     ENGL     Private      NOT SPECIFIED   \n23         357     ENGL     Private      NOT SPECIFIED   \n24         357     ENGL     Private      NOT SPECIFIED   \n25         357     ENGL     Private      NOT SPECIFIED   \n26         357     ENGL     Private      NOT SPECIFIED   \n27         358      NaN     Private           CATHOLIC   \n28         359     VIET    Self Pay           BUDDHIST   \n29         360      NaN    Medicare  PROTESTANT QUAKER   \n..         ...      ...         ...                ...   \n70          67      NaN    Medicare             JEWISH   \n71          68      NaN    Medicare  PROTESTANT QUAKER   \n72          68      NaN    Medicare  PROTESTANT QUAKER   \n73          69      NaN     Private       UNOBTAINABLE   \n74          70      NaN     Private      NOT SPECIFIED   \n75          71     MAND  Government      NOT SPECIFIED   \n76          72      NaN    Medicaid      NOT SPECIFIED   \n77          73      NaN     Private           CATHOLIC   \n78          74      NaN     Private           CATHOLIC   \n79          75      NaN    Medicare           CATHOLIC   \n80          77      NaN     Private           CATHOLIC   \n81          78      NaN    Medicare      NOT SPECIFIED   \n82          79      NaN     Private       UNOBTAINABLE   \n83          80      NaN    Self Pay           CATHOLIC   \n84          81      NaN    Medicare       UNOBTAINABLE   \n85          82      NaN     Private       UNOBTAINABLE   \n86          83      NaN    Medicare       UNOBTAINABLE   \n87          84      NaN     Private              OTHER   \n88          84      NaN     Private              OTHER   \n89          85     ENGL    Medicare           CATHOLIC   \n90          85     ENGL    Medicare           CATHOLIC   \n91          86      NaN     Private      NOT SPECIFIED   \n92          87      NaN     Private       UNOBTAINABLE   \n93          88      NaN     Private                NaN   \n94          89      NaN    Medicaid       UNOBTAINABLE   \n95          91      NaN    Medicare             JEWISH   \n96          92      NaN    Medicaid       UNOBTAINABLE   \n97          93      NaN     Private           CATHOLIC   \n98          94     CANT    Medicare      NOT SPECIFIED   \n99          94     CANT    Medicare      NOT SPECIFIED   \n\n                 ETHNICITY            ADMITTIME  \n0                    WHITE  2196-04-09 12:26:00  \n1                    WHITE  2153-09-03 07:15:00  \n2                    WHITE  2157-10-18 19:34:00  \n3                    WHITE  2139-06-06 16:14:00  \n4                    WHITE  2160-11-02 02:06:00  \n5    UNKNOWN/NOT SPECIFIED  2126-05-06 15:16:00  \n6                    WHITE  2191-11-30 22:16:00  \n7                    WHITE  2177-09-01 07:15:00  \n8    UNKNOWN/NOT SPECIFIED  2172-10-14 14:17:00  \n9                    WHITE  2108-08-22 23:27:00  \n10                   WHITE  2170-04-04 08:00:00  \n11   UNKNOWN/NOT SPECIFIED  2116-12-23 22:30:00  \n12                   WHITE  2186-07-18 16:46:00  \n13                   WHITE  2191-02-23 05:23:00  \n14                   WHITE  2122-02-10 11:15:00  \n15                   WHITE  2131-04-30 07:15:00  \n16                   WHITE  2131-05-12 19:49:00  \n17                   WHITE  2134-05-10 11:30:00  \n18                   WHITE  2183-08-21 16:48:00  \n19                   WHITE  2166-08-10 00:28:00  \n20   UNKNOWN/NOT SPECIFIED  2114-11-29 21:04:00  \n21                   WHITE  2132-12-31 10:30:00  \n22                   WHITE  2197-12-06 07:13:00  \n23                   WHITE  2198-08-02 04:49:00  \n24                   WHITE  2198-11-01 22:36:00  \n25                   WHITE  2199-10-20 12:05:00  \n26                   WHITE  2199-12-21 22:37:00  \n27                   WHITE  2168-10-24 23:48:00  \n28   UNKNOWN/NOT SPECIFIED  2176-06-30 03:00:00  \n29                   WHITE  2176-06-25 17:50:00  \n..                     ...                  ...  \n70                   WHITE  2157-12-02 00:45:00  \n71  BLACK/AFRICAN AMERICAN  2173-12-15 16:16:00  \n72  BLACK/AFRICAN AMERICAN  2174-01-04 22:21:00  \n73                   WHITE  2129-03-21 15:33:00  \n74  BLACK/AFRICAN AMERICAN  2185-09-01 10:42:00  \n75                   ASIAN  2164-02-03 22:07:00  \n76  BLACK/AFRICAN AMERICAN  2163-09-22 23:52:00  \n77                   WHITE  2170-12-22 00:12:00  \n78                   WHITE  2180-06-07 19:39:00  \n79                   WHITE  2147-04-05 08:00:00  \n80   UNKNOWN/NOT SPECIFIED  2164-11-18 07:00:00  \n81  BLACK/AFRICAN AMERICAN  2177-02-14 00:16:00  \n82   UNKNOWN/NOT SPECIFIED  2175-09-25 23:05:00  \n83                   WHITE  2148-11-11 12:12:00  \n84                   WHITE  2192-01-09 18:50:00  \n85                   OTHER  2150-06-24 23:31:00  \n86   UNKNOWN/NOT SPECIFIED  2142-04-01 12:34:00  \n87                   WHITE  2196-02-02 07:15:00  \n88                   WHITE  2196-04-14 04:02:00  \n89                   WHITE  2162-03-02 14:04:00  \n90                   WHITE  2167-07-25 18:49:00  \n91                   WHITE  2146-04-06 08:00:00  \n92   UNKNOWN/NOT SPECIFIED  2191-02-25 20:30:00  \n93  BLACK/AFRICAN AMERICAN  2111-08-29 03:03:00  \n94   UNKNOWN/NOT SPECIFIED  2185-06-17 05:22:00  \n95                   WHITE  2177-04-23 00:08:00  \n96                   WHITE  2122-12-13 19:30:00  \n97                   WHITE  2128-03-17 17:11:00  \n98                   ASIAN  2176-02-25 16:49:00  \n99                   ASIAN  2176-09-02 14:22:00  \n\n[100 rows x 6 columns]",
      "text/html": "<div>\n<style scoped>\n    .dataframe tbody tr th:only-of-type {\n        vertical-align: middle;\n    }\n\n    .dataframe tbody tr th {\n        vertical-align: top;\n    }\n\n    .dataframe thead th {\n        text-align: right;\n    }\n</style>\n<table border=\"1\" class=\"dataframe\">\n  <thead>\n    <tr style=\"text-align: right;\">\n      <th></th>\n      <th>SUBJECT_ID</th>\n      <th>LANGUAGE</th>\n      <th>INSURANCE</th>\n      <th>RELIGION</th>\n      <th>ETHNICITY</th>\n      <th>ADMITTIME</th>\n    </tr>\n  </thead>\n  <tbody>\n    <tr>\n      <th>0</th>\n      <td>22</td>\n      <td>NaN</td>\n      <td>Private</td>\n      <td>UNOBTAINABLE</td>\n      <td>WHITE</td>\n      <td>2196-04-09 12:26:00</td>\n    </tr>\n    <tr>\n      <th>1</th>\n      <td>23</td>\n      <td>NaN</td>\n      <td>Medicare</td>\n      <td>CATHOLIC</td>\n      <td>WHITE</td>\n      <td>2153-09-03 07:15:00</td>\n    </tr>\n    <tr>\n      <th>2</th>\n      <td>23</td>\n      <td>ENGL</td>\n      <td>Medicare</td>\n      <td>CATHOLIC</td>\n      <td>WHITE</td>\n      <td>2157-10-18 19:34:00</td>\n    </tr>\n    <tr>\n      <th>3</th>\n      <td>24</td>\n      <td>NaN</td>\n      <td>Private</td>\n      <td>PROTESTANT QUAKER</td>\n      <td>WHITE</td>\n      <td>2139-06-06 16:14:00</td>\n    </tr>\n    <tr>\n      <th>4</th>\n      <td>25</td>\n      <td>NaN</td>\n      <td>Private</td>\n      <td>UNOBTAINABLE</td>\n      <td>WHITE</td>\n      <td>2160-11-02 02:06:00</td>\n    </tr>\n    <tr>\n      <th>5</th>\n      <td>26</td>\n      <td>NaN</td>\n      <td>Medicare</td>\n      <td>CATHOLIC</td>\n      <td>UNKNOWN/NOT SPECIFIED</td>\n      <td>2126-05-06 15:16:00</td>\n    </tr>\n    <tr>\n      <th>6</th>\n      <td>27</td>\n      <td>NaN</td>\n      <td>Private</td>\n      <td>CATHOLIC</td>\n      <td>WHITE</td>\n      <td>2191-11-30 22:16:00</td>\n    </tr>\n    <tr>\n      <th>7</th>\n      <td>28</td>\n      <td>NaN</td>\n      <td>Medicare</td>\n      <td>CATHOLIC</td>\n      <td>WHITE</td>\n      <td>2177-09-01 07:15:00</td>\n    </tr>\n    <tr>\n      <th>8</th>\n      <td>30</td>\n      <td>NaN</td>\n      <td>Medicare</td>\n      <td>CATHOLIC</td>\n      <td>UNKNOWN/NOT SPECIFIED</td>\n      <td>2172-10-14 14:17:00</td>\n    </tr>\n    <tr>\n      <th>9</th>\n      <td>31</td>\n      <td>NaN</td>\n      <td>Medicare</td>\n      <td>CATHOLIC</td>\n      <td>WHITE</td>\n      <td>2108-08-22 23:27:00</td>\n    </tr>\n    <tr>\n      <th>10</th>\n      <td>32</td>\n      <td>NaN</td>\n      <td>Medicaid</td>\n      <td>UNOBTAINABLE</td>\n      <td>WHITE</td>\n      <td>2170-04-04 08:00:00</td>\n    </tr>\n    <tr>\n      <th>11</th>\n      <td>33</td>\n      <td>NaN</td>\n      <td>Medicare</td>\n      <td>PROTESTANT QUAKER</td>\n      <td>UNKNOWN/NOT SPECIFIED</td>\n      <td>2116-12-23 22:30:00</td>\n    </tr>\n    <tr>\n      <th>12</th>\n      <td>34</td>\n      <td>ENGL</td>\n      <td>Medicare</td>\n      <td>CATHOLIC</td>\n      <td>WHITE</td>\n      <td>2186-07-18 16:46:00</td>\n    </tr>\n    <tr>\n      <th>13</th>\n      <td>34</td>\n      <td>ENGL</td>\n      <td>Medicare</td>\n      <td>CATHOLIC</td>\n      <td>WHITE</td>\n      <td>2191-02-23 05:23:00</td>\n    </tr>\n    <tr>\n      <th>14</th>\n      <td>35</td>\n      <td>NaN</td>\n      <td>Medicare</td>\n      <td>CATHOLIC</td>\n      <td>WHITE</td>\n      <td>2122-02-10 11:15:00</td>\n    </tr>\n    <tr>\n      <th>15</th>\n      <td>36</td>\n      <td>ENGL</td>\n      <td>Medicare</td>\n      <td>NOT SPECIFIED</td>\n      <td>WHITE</td>\n      <td>2131-04-30 07:15:00</td>\n    </tr>\n    <tr>\n      <th>16</th>\n      <td>36</td>\n      <td>ENGL</td>\n      <td>Medicare</td>\n      <td>NOT SPECIFIED</td>\n      <td>WHITE</td>\n      <td>2131-05-12 19:49:00</td>\n    </tr>\n    <tr>\n      <th>17</th>\n      <td>36</td>\n      <td>ENGL</td>\n      <td>Medicare</td>\n      <td>NOT SPECIFIED</td>\n      <td>WHITE</td>\n      <td>2134-05-10 11:30:00</td>\n    </tr>\n    <tr>\n      <th>18</th>\n      <td>37</td>\n      <td>NaN</td>\n      <td>Medicare</td>\n      <td>JEWISH</td>\n      <td>WHITE</td>\n      <td>2183-08-21 16:48:00</td>\n    </tr>\n    <tr>\n      <th>19</th>\n      <td>38</td>\n      <td>NaN</td>\n      <td>Medicare</td>\n      <td>CATHOLIC</td>\n      <td>WHITE</td>\n      <td>2166-08-10 00:28:00</td>\n    </tr>\n    <tr>\n      <th>20</th>\n      <td>39</td>\n      <td>NaN</td>\n      <td>Private</td>\n      <td>NOT SPECIFIED</td>\n      <td>UNKNOWN/NOT SPECIFIED</td>\n      <td>2114-11-29 21:04:00</td>\n    </tr>\n    <tr>\n      <th>21</th>\n      <td>41</td>\n      <td>NaN</td>\n      <td>Private</td>\n      <td>PROTESTANT QUAKER</td>\n      <td>WHITE</td>\n      <td>2132-12-31 10:30:00</td>\n    </tr>\n    <tr>\n      <th>22</th>\n      <td>357</td>\n      <td>ENGL</td>\n      <td>Private</td>\n      <td>NOT SPECIFIED</td>\n      <td>WHITE</td>\n      <td>2197-12-06 07:13:00</td>\n    </tr>\n    <tr>\n      <th>23</th>\n      <td>357</td>\n      <td>ENGL</td>\n      <td>Private</td>\n      <td>NOT SPECIFIED</td>\n      <td>WHITE</td>\n      <td>2198-08-02 04:49:00</td>\n    </tr>\n    <tr>\n      <th>24</th>\n      <td>357</td>\n      <td>ENGL</td>\n      <td>Private</td>\n      <td>NOT SPECIFIED</td>\n      <td>WHITE</td>\n      <td>2198-11-01 22:36:00</td>\n    </tr>\n    <tr>\n      <th>25</th>\n      <td>357</td>\n      <td>ENGL</td>\n      <td>Private</td>\n      <td>NOT SPECIFIED</td>\n      <td>WHITE</td>\n      <td>2199-10-20 12:05:00</td>\n    </tr>\n    <tr>\n      <th>26</th>\n      <td>357</td>\n      <td>ENGL</td>\n      <td>Private</td>\n      <td>NOT SPECIFIED</td>\n      <td>WHITE</td>\n      <td>2199-12-21 22:37:00</td>\n    </tr>\n    <tr>\n      <th>27</th>\n      <td>358</td>\n      <td>NaN</td>\n      <td>Private</td>\n      <td>CATHOLIC</td>\n      <td>WHITE</td>\n      <td>2168-10-24 23:48:00</td>\n    </tr>\n    <tr>\n      <th>28</th>\n      <td>359</td>\n      <td>VIET</td>\n      <td>Self Pay</td>\n      <td>BUDDHIST</td>\n      <td>UNKNOWN/NOT SPECIFIED</td>\n      <td>2176-06-30 03:00:00</td>\n    </tr>\n    <tr>\n      <th>29</th>\n      <td>360</td>\n      <td>NaN</td>\n      <td>Medicare</td>\n      <td>PROTESTANT QUAKER</td>\n      <td>WHITE</td>\n      <td>2176-06-25 17:50:00</td>\n    </tr>\n    <tr>\n      <th>...</th>\n      <td>...</td>\n      <td>...</td>\n      <td>...</td>\n      <td>...</td>\n      <td>...</td>\n      <td>...</td>\n    </tr>\n    <tr>\n      <th>70</th>\n      <td>67</td>\n      <td>NaN</td>\n      <td>Medicare</td>\n      <td>JEWISH</td>\n      <td>WHITE</td>\n      <td>2157-12-02 00:45:00</td>\n    </tr>\n    <tr>\n      <th>71</th>\n      <td>68</td>\n      <td>NaN</td>\n      <td>Medicare</td>\n      <td>PROTESTANT QUAKER</td>\n      <td>BLACK/AFRICAN AMERICAN</td>\n      <td>2173-12-15 16:16:00</td>\n    </tr>\n    <tr>\n      <th>72</th>\n      <td>68</td>\n      <td>NaN</td>\n      <td>Medicare</td>\n      <td>PROTESTANT QUAKER</td>\n      <td>BLACK/AFRICAN AMERICAN</td>\n      <td>2174-01-04 22:21:00</td>\n    </tr>\n    <tr>\n      <th>73</th>\n      <td>69</td>\n      <td>NaN</td>\n      <td>Private</td>\n      <td>UNOBTAINABLE</td>\n      <td>WHITE</td>\n      <td>2129-03-21 15:33:00</td>\n    </tr>\n    <tr>\n      <th>74</th>\n      <td>70</td>\n      <td>NaN</td>\n      <td>Private</td>\n      <td>NOT SPECIFIED</td>\n      <td>BLACK/AFRICAN AMERICAN</td>\n      <td>2185-09-01 10:42:00</td>\n    </tr>\n    <tr>\n      <th>75</th>\n      <td>71</td>\n      <td>MAND</td>\n      <td>Government</td>\n      <td>NOT SPECIFIED</td>\n      <td>ASIAN</td>\n      <td>2164-02-03 22:07:00</td>\n    </tr>\n    <tr>\n      <th>76</th>\n      <td>72</td>\n      <td>NaN</td>\n      <td>Medicaid</td>\n      <td>NOT SPECIFIED</td>\n      <td>BLACK/AFRICAN AMERICAN</td>\n      <td>2163-09-22 23:52:00</td>\n    </tr>\n    <tr>\n      <th>77</th>\n      <td>73</td>\n      <td>NaN</td>\n      <td>Private</td>\n      <td>CATHOLIC</td>\n      <td>WHITE</td>\n      <td>2170-12-22 00:12:00</td>\n    </tr>\n    <tr>\n      <th>78</th>\n      <td>74</td>\n      <td>NaN</td>\n      <td>Private</td>\n      <td>CATHOLIC</td>\n      <td>WHITE</td>\n      <td>2180-06-07 19:39:00</td>\n    </tr>\n    <tr>\n      <th>79</th>\n      <td>75</td>\n      <td>NaN</td>\n      <td>Medicare</td>\n      <td>CATHOLIC</td>\n      <td>WHITE</td>\n      <td>2147-04-05 08:00:00</td>\n    </tr>\n    <tr>\n      <th>80</th>\n      <td>77</td>\n      <td>NaN</td>\n      <td>Private</td>\n      <td>CATHOLIC</td>\n      <td>UNKNOWN/NOT SPECIFIED</td>\n      <td>2164-11-18 07:00:00</td>\n    </tr>\n    <tr>\n      <th>81</th>\n      <td>78</td>\n      <td>NaN</td>\n      <td>Medicare</td>\n      <td>NOT SPECIFIED</td>\n      <td>BLACK/AFRICAN AMERICAN</td>\n      <td>2177-02-14 00:16:00</td>\n    </tr>\n    <tr>\n      <th>82</th>\n      <td>79</td>\n      <td>NaN</td>\n      <td>Private</td>\n      <td>UNOBTAINABLE</td>\n      <td>UNKNOWN/NOT SPECIFIED</td>\n      <td>2175-09-25 23:05:00</td>\n    </tr>\n    <tr>\n      <th>83</th>\n      <td>80</td>\n      <td>NaN</td>\n      <td>Self Pay</td>\n      <td>CATHOLIC</td>\n      <td>WHITE</td>\n      <td>2148-11-11 12:12:00</td>\n    </tr>\n    <tr>\n      <th>84</th>\n      <td>81</td>\n      <td>NaN</td>\n      <td>Medicare</td>\n      <td>UNOBTAINABLE</td>\n      <td>WHITE</td>\n      <td>2192-01-09 18:50:00</td>\n    </tr>\n    <tr>\n      <th>85</th>\n      <td>82</td>\n      <td>NaN</td>\n      <td>Private</td>\n      <td>UNOBTAINABLE</td>\n      <td>OTHER</td>\n      <td>2150-06-24 23:31:00</td>\n    </tr>\n    <tr>\n      <th>86</th>\n      <td>83</td>\n      <td>NaN</td>\n      <td>Medicare</td>\n      <td>UNOBTAINABLE</td>\n      <td>UNKNOWN/NOT SPECIFIED</td>\n      <td>2142-04-01 12:34:00</td>\n    </tr>\n    <tr>\n      <th>87</th>\n      <td>84</td>\n      <td>NaN</td>\n      <td>Private</td>\n      <td>OTHER</td>\n      <td>WHITE</td>\n      <td>2196-02-02 07:15:00</td>\n    </tr>\n    <tr>\n      <th>88</th>\n      <td>84</td>\n      <td>NaN</td>\n      <td>Private</td>\n      <td>OTHER</td>\n      <td>WHITE</td>\n      <td>2196-04-14 04:02:00</td>\n    </tr>\n    <tr>\n      <th>89</th>\n      <td>85</td>\n      <td>ENGL</td>\n      <td>Medicare</td>\n      <td>CATHOLIC</td>\n      <td>WHITE</td>\n      <td>2162-03-02 14:04:00</td>\n    </tr>\n    <tr>\n      <th>90</th>\n      <td>85</td>\n      <td>ENGL</td>\n      <td>Medicare</td>\n      <td>CATHOLIC</td>\n      <td>WHITE</td>\n      <td>2167-07-25 18:49:00</td>\n    </tr>\n    <tr>\n      <th>91</th>\n      <td>86</td>\n      <td>NaN</td>\n      <td>Private</td>\n      <td>NOT SPECIFIED</td>\n      <td>WHITE</td>\n      <td>2146-04-06 08:00:00</td>\n    </tr>\n    <tr>\n      <th>92</th>\n      <td>87</td>\n      <td>NaN</td>\n      <td>Private</td>\n      <td>UNOBTAINABLE</td>\n      <td>UNKNOWN/NOT SPECIFIED</td>\n      <td>2191-02-25 20:30:00</td>\n    </tr>\n    <tr>\n      <th>93</th>\n      <td>88</td>\n      <td>NaN</td>\n      <td>Private</td>\n      <td>NaN</td>\n      <td>BLACK/AFRICAN AMERICAN</td>\n      <td>2111-08-29 03:03:00</td>\n    </tr>\n    <tr>\n      <th>94</th>\n      <td>89</td>\n      <td>NaN</td>\n      <td>Medicaid</td>\n      <td>UNOBTAINABLE</td>\n      <td>UNKNOWN/NOT SPECIFIED</td>\n      <td>2185-06-17 05:22:00</td>\n    </tr>\n    <tr>\n      <th>95</th>\n      <td>91</td>\n      <td>NaN</td>\n      <td>Medicare</td>\n      <td>JEWISH</td>\n      <td>WHITE</td>\n      <td>2177-04-23 00:08:00</td>\n    </tr>\n    <tr>\n      <th>96</th>\n      <td>92</td>\n      <td>NaN</td>\n      <td>Medicaid</td>\n      <td>UNOBTAINABLE</td>\n      <td>WHITE</td>\n      <td>2122-12-13 19:30:00</td>\n    </tr>\n    <tr>\n      <th>97</th>\n      <td>93</td>\n      <td>NaN</td>\n      <td>Private</td>\n      <td>CATHOLIC</td>\n      <td>WHITE</td>\n      <td>2128-03-17 17:11:00</td>\n    </tr>\n    <tr>\n      <th>98</th>\n      <td>94</td>\n      <td>CANT</td>\n      <td>Medicare</td>\n      <td>NOT SPECIFIED</td>\n      <td>ASIAN</td>\n      <td>2176-02-25 16:49:00</td>\n    </tr>\n    <tr>\n      <th>99</th>\n      <td>94</td>\n      <td>CANT</td>\n      <td>Medicare</td>\n      <td>NOT SPECIFIED</td>\n      <td>ASIAN</td>\n      <td>2176-09-02 14:22:00</td>\n    </tr>\n  </tbody>\n</table>\n<p>100 rows × 6 columns</p>\n</div>"
     },
     "execution_count": 6,
     "metadata": {},
     "output_type": "execute_result"
    }
   ],
   "source": [
    "adm.head(100)"
   ],
   "metadata": {
    "collapsed": false,
    "ExecuteTime": {
     "start_time": "2023-08-22T23:22:50.402192Z",
     "end_time": "2023-08-22T23:22:50.495099Z"
    }
   }
  },
  {
   "cell_type": "code",
   "execution_count": 7,
   "outputs": [],
   "source": [
    "patients_original = patients.copy()\n",
    "adm_original = adm.copy()"
   ],
   "metadata": {
    "collapsed": false,
    "ExecuteTime": {
     "start_time": "2023-08-22T23:22:51.616190Z",
     "end_time": "2023-08-22T23:22:51.647767Z"
    }
   }
  },
  {
   "cell_type": "code",
   "execution_count": 8,
   "outputs": [],
   "source": [
    "# merge the two tables\n",
    "adm = adm.merge(patients, how='left', on='SUBJECT_ID')"
   ],
   "metadata": {
    "collapsed": false,
    "ExecuteTime": {
     "start_time": "2023-08-22T23:22:52.505002Z",
     "end_time": "2023-08-22T23:22:52.561561Z"
    }
   }
  },
  {
   "cell_type": "code",
   "execution_count": 9,
   "outputs": [
    {
     "name": "stdout",
     "output_type": "stream",
     "text": [
      "Total Subjects: 46520\n"
     ]
    }
   ],
   "source": [
    "print(\"Total Subjects: {}\".format(len(adm.SUBJECT_ID.unique())))"
   ],
   "metadata": {
    "collapsed": false,
    "ExecuteTime": {
     "start_time": "2023-08-22T23:22:53.482434Z",
     "end_time": "2023-08-22T23:22:53.517788Z"
    }
   }
  },
  {
   "cell_type": "code",
   "execution_count": 10,
   "outputs": [
    {
     "name": "stdout",
     "output_type": "stream",
     "text": [
      "Null Values: 458 (0.00776587086272382%)\n",
      "Distinct values: 20\n",
      "Majority Class: CATHOLIC (0.34939636462289747%) - Minority Class: LUTHERAN (1.695604991861096e-05%)\n",
      "Original Religion Values:\n",
      "CATHOLIC                  20606\n",
      "NOT SPECIFIED             11753\n",
      "UNOBTAINABLE               8269\n",
      "PROTESTANT QUAKER          7134\n",
      "JEWISH                     5314\n",
      "OTHER                      2696\n",
      "EPISCOPALIAN                774\n",
      "GREEK ORTHODOX              459\n",
      "CHRISTIAN SCIENTIST         429\n",
      "BUDDHIST                    267\n",
      "MUSLIM                      225\n",
      "JEHOVAH'S WITNESS           139\n",
      "UNITARIAN-UNIVERSALIST      124\n",
      "HINDU                       113\n",
      "ROMANIAN EAST. ORTH          83\n",
      "7TH DAY ADVENTIST            81\n",
      "BAPTIST                      28\n",
      "HEBREW                       16\n",
      "METHODIST                     7\n",
      "LUTHERAN                      1\n",
      "Name: RELIGION, dtype: int64\n"
     ]
    }
   ],
   "source": [
    "# preprocess religion to christian (majority religion) vs. non-christian\n",
    "# unknown values get the majority class\n",
    "print(\"Null Values: {} ({}%)\".format(adm.RELIGION.isna().sum(), adm.RELIGION.isna().sum()/adm.shape[0]))\n",
    "print(\"Distinct values: {}\".format(len(adm.RELIGION.value_counts())))\n",
    "print(\"Majority Class: {} ({}%) - Minority Class: {} ({}%)\".format(\n",
    "    adm.RELIGION.value_counts().keys()[0],\n",
    "    adm.RELIGION.value_counts()[0]/adm.shape[0],\n",
    "    adm.RELIGION.value_counts().keys()[-1],\n",
    "    adm.RELIGION.value_counts()[-1]/adm.shape[0]\n",
    "))\n",
    "print(\"Original Religion Values:\")\n",
    "print(adm.RELIGION.value_counts())"
   ],
   "metadata": {
    "collapsed": false,
    "ExecuteTime": {
     "start_time": "2023-08-22T23:22:54.686548Z",
     "end_time": "2023-08-22T23:22:54.733227Z"
    }
   }
  },
  {
   "cell_type": "code",
   "execution_count": 11,
   "outputs": [
    {
     "name": "stdout",
     "output_type": "stream",
     "text": [
      "Binarized Religion Values:\n",
      "1    50345\n",
      "0     8631\n",
      "Name: RELIGION, dtype: int64\n"
     ]
    }
   ],
   "source": [
    "print(\"Binarized Religion Values:\")\n",
    "adm.RELIGION = adm.RELIGION.apply(lambda religion: get_religion_category(religion))\n",
    "print(adm.RELIGION.value_counts())"
   ],
   "metadata": {
    "collapsed": false,
    "ExecuteTime": {
     "start_time": "2023-08-22T23:22:55.754000Z",
     "end_time": "2023-08-22T23:22:55.783085Z"
    }
   }
  },
  {
   "cell_type": "code",
   "execution_count": 12,
   "outputs": [
    {
     "name": "stdout",
     "output_type": "stream",
     "text": [
      "Null Values: 25332 (0.42953065653825284%)\n",
      "Distinct values: 75\n",
      "Majority Class: ENGL (0.4931836679327184%) - Minority Class: *DEA (1.695604991861096e-05%)\n",
      "Original Language Values:\n",
      "ENGL    29086\n",
      "SPAN     1083\n",
      "RUSS      790\n",
      "PTUN      628\n",
      "CANT      413\n",
      "PORT      342\n",
      "CAPE      256\n",
      "MAND      156\n",
      "HAIT      150\n",
      "ITAL      124\n",
      "VIET       94\n",
      "GREE       75\n",
      "ARAB       47\n",
      "PERS       44\n",
      "CAMB       37\n",
      "POLI       34\n",
      "AMER       31\n",
      "HIND       24\n",
      "KORE       23\n",
      "ALBA       17\n",
      "FREN       16\n",
      "SOMA       13\n",
      "THAI       12\n",
      "ETHI       11\n",
      "*ARM        9\n",
      "*HUN        7\n",
      "LAOT        7\n",
      "*CHI        7\n",
      "*YID        7\n",
      "*GUJ        7\n",
      "        ...  \n",
      "*DUT        2\n",
      "*FUL        2\n",
      "*TOI        2\n",
      "*TOY        2\n",
      "TURK        2\n",
      "BENG        2\n",
      "*AMH        2\n",
      "* BE        2\n",
      "*KHM        2\n",
      "*LEB        2\n",
      "*CRE        1\n",
      "*FAR        1\n",
      "*PER        1\n",
      "*BOS        1\n",
      "*NEP        1\n",
      "GERM        1\n",
      "*PHI        1\n",
      "*PUN        1\n",
      "*LIT        1\n",
      "*SPA        1\n",
      "*ARA        1\n",
      "* FU        1\n",
      "*ROM        1\n",
      "*RUS        1\n",
      "SERB        1\n",
      "*YOR        1\n",
      "*TAM        1\n",
      "*FIL        1\n",
      "** T        1\n",
      "*DEA        1\n",
      "Name: LANGUAGE, Length: 75, dtype: int64\n"
     ]
    }
   ],
   "source": [
    "# preprocess language to english (majority speaking) vs. non-english\n",
    "# unknown values get the majority class\n",
    "print(\"Null Values: {} ({}%)\".format(adm.LANGUAGE.isna().sum(), adm.LANGUAGE.isna().sum()/adm.shape[0]))\n",
    "print(\"Distinct values: {}\".format(len(adm.LANGUAGE.value_counts())))\n",
    "print(\"Majority Class: {} ({}%) - Minority Class: {} ({}%)\".format(\n",
    "    adm.LANGUAGE.value_counts().keys()[0],\n",
    "    adm.LANGUAGE.value_counts()[0]/adm.shape[0],\n",
    "    adm.LANGUAGE.value_counts().keys()[-1],\n",
    "    adm.LANGUAGE.value_counts()[-1]/adm.shape[0]\n",
    "))\n",
    "print(\"Original Language Values:\")\n",
    "print(adm.LANGUAGE.value_counts())"
   ],
   "metadata": {
    "collapsed": false,
    "ExecuteTime": {
     "start_time": "2023-08-22T23:22:56.483148Z",
     "end_time": "2023-08-22T23:22:56.519149Z"
    }
   }
  },
  {
   "cell_type": "code",
   "execution_count": 13,
   "outputs": [
    {
     "name": "stdout",
     "output_type": "stream",
     "text": [
      "Binarized Language Values:\n",
      "1    54418\n",
      "0     4558\n",
      "Name: LANGUAGE, dtype: int64\n"
     ]
    }
   ],
   "source": [
    "print(\"Binarized Language Values:\")\n",
    "adm.LANGUAGE =adm.LANGUAGE.apply(lambda lang: get_language_category(lang))\n",
    "print(adm.LANGUAGE.value_counts())"
   ],
   "metadata": {
    "collapsed": false,
    "ExecuteTime": {
     "start_time": "2023-08-22T23:22:57.802082Z",
     "end_time": "2023-08-22T23:22:57.836907Z"
    }
   }
  },
  {
   "cell_type": "code",
   "execution_count": 14,
   "outputs": [
    {
     "name": "stdout",
     "output_type": "stream",
     "text": [
      "Null Values: 0 (0.0%)\n",
      "Distinct values: 77\n",
      "Original Age Values:\n",
      "90    10726\n",
      "78     1139\n",
      "77     1115\n",
      "69     1096\n",
      "61     1086\n",
      "76     1086\n",
      "66     1084\n",
      "68     1082\n",
      "62     1075\n",
      "75     1074\n",
      "64     1064\n",
      "80     1052\n",
      "79     1046\n",
      "81     1045\n",
      "72     1043\n",
      "65     1043\n",
      "67     1041\n",
      "63     1033\n",
      "74     1027\n",
      "60     1025\n",
      "58     1012\n",
      "71     1008\n",
      "57      985\n",
      "59      983\n",
      "83      970\n",
      "73      962\n",
      "70      962\n",
      "84      958\n",
      "82      935\n",
      "55      915\n",
      "      ...  \n",
      "42      448\n",
      "41      401\n",
      "40      397\n",
      "39      385\n",
      "38      332\n",
      "37      324\n",
      "34      275\n",
      "36      264\n",
      "35      258\n",
      "33      253\n",
      "32      227\n",
      "28      218\n",
      "22      217\n",
      "24      216\n",
      "21      213\n",
      "23      209\n",
      "25      209\n",
      "26      206\n",
      "31      198\n",
      "30      197\n",
      "29      196\n",
      "20      192\n",
      "27      175\n",
      "19      156\n",
      "18      134\n",
      "17       69\n",
      "16       23\n",
      "15        8\n",
      "14        1\n",
      "89        1\n",
      "Name: AGE, Length: 77, dtype: int64\n",
      "Binarized Age Values:\n",
      "0    34156\n",
      "1    24820\n",
      "Name: AGE, dtype: int64\n"
     ]
    },
    {
     "data": {
      "text/plain": "<Figure size 640x480 with 1 Axes>",
      "image/png": "[encoded data removed]"
     },
     "metadata": {},
     "output_type": "display_data"
    }
   ],
   "source": [
    "# preprocess age to 65+ (minority) vs younger\n",
    "adm = get_age(adm)\n",
    "plt.hist(adm.AGE)\n",
    "print(\"Null Values: {} ({}%)\".format(adm.AGE.isna().sum(), adm.AGE.isna().sum()/adm.shape[0]))\n",
    "print(\"Distinct values: {}\".format(len(adm.AGE.value_counts())))\n",
    "print(\"Original Age Values:\")\n",
    "print(adm.AGE.value_counts())\n",
    "adm.AGE =adm.AGE.apply(lambda age: get_age_category(age))\n",
    "print(\"Binarized Age Values:\")\n",
    "print(adm.AGE.value_counts())"
   ],
   "metadata": {
    "collapsed": false,
    "ExecuteTime": {
     "start_time": "2023-08-22T23:22:58.448427Z",
     "end_time": "2023-08-22T23:22:59.988723Z"
    }
   }
  },
  {
   "cell_type": "code",
   "execution_count": 15,
   "outputs": [
    {
     "name": "stdout",
     "output_type": "stream",
     "text": [
      "Null Values: 0 (0.0%)\n",
      "Distinct values: 2\n"
     ]
    }
   ],
   "source": [
    "print(\"Null Values: {} ({}%)\".format(adm.AGE.isna().sum(), adm.AGE.isna().sum()/adm.shape[0]))\n",
    "print(\"Distinct values: {}\".format(len(adm.AGE.value_counts())))\n",
    "# print(\"Majority Class: {} ({}%) - Minority Class: {} ({}%)\".format(\n",
    "#     adm.AGE.value_counts().keys()[0],\n",
    "#     adm.AGE.value_counts()[0]/adm.shape[0],\n",
    "#     adm.AGE.value_counts().keys()[-1],\n",
    "#     adm.AGE.value_counts()[-1]/adm.shape[0]\n",
    "# ))"
   ],
   "metadata": {
    "collapsed": false,
    "ExecuteTime": {
     "start_time": "2023-08-22T23:22:59.963657Z",
     "end_time": "2023-08-22T23:23:00.003744Z"
    }
   }
  },
  {
   "cell_type": "code",
   "execution_count": 16,
   "outputs": [
    {
     "name": "stdout",
     "output_type": "stream",
     "text": [
      "Original Insurance Values:\n",
      "Medicare      28215\n",
      "Private       22582\n",
      "Medicaid       5785\n",
      "Government     1783\n",
      "Self Pay        611\n",
      "Name: INSURANCE, dtype: int64\n",
      "Medicare      28215\n",
      "Private       22582\n",
      "Medicaid       5785\n",
      "Government     1783\n",
      "Self Pay        611\n",
      "Name: INSURANCE, dtype: int64\n",
      "Null Values: 0 (0.0%)\n",
      "Distinct values: 5\n",
      "Majority Class: Medicare (0.47841494845360827%) - Minority Class: Self Pay (0.010360146500271297%)\n"
     ]
    }
   ],
   "source": [
    "print(\"Original Insurance Values:\")\n",
    "print(adm.INSURANCE.value_counts())\n",
    "print(adm.INSURANCE.value_counts())\n",
    "print(\"Null Values: {} ({}%)\".format(adm.INSURANCE.isna().sum(), adm.GENDER.isna().sum() / adm.shape[0]))\n",
    "print(\"Distinct values: {}\".format(len(adm.INSURANCE.value_counts())))\n",
    "print(\"Majority Class: {} ({}%) - Minority Class: {} ({}%)\".format(\n",
    "    adm.INSURANCE.value_counts().keys()[0],\n",
    "    adm.INSURANCE.value_counts()[0] / adm.shape[0],\n",
    "    adm.INSURANCE.value_counts().keys()[-1],\n",
    "    adm.INSURANCE.value_counts()[-1] / adm.shape[0]\n",
    "))"
   ],
   "metadata": {
    "collapsed": false,
    "ExecuteTime": {
     "start_time": "2023-08-22T23:23:01.225896Z",
     "end_time": "2023-08-22T23:23:01.283405Z"
    }
   }
  },
  {
   "cell_type": "code",
   "execution_count": 17,
   "outputs": [
    {
     "name": "stdout",
     "output_type": "stream",
     "text": [
      "Binarized Insurance Values:\n",
      "1    58365\n",
      "0      611\n",
      "Name: INSURANCE, dtype: int64\n"
     ]
    }
   ],
   "source": [
    "adm.INSURANCE =adm.INSURANCE.apply(lambda insurance: get_insurance_category(insurance))\n",
    "print(\"Binarized Insurance Values:\")\n",
    "print(adm.INSURANCE.value_counts())"
   ],
   "metadata": {
    "collapsed": false,
    "ExecuteTime": {
     "start_time": "2023-08-22T23:23:02.279658Z",
     "end_time": "2023-08-22T23:23:02.318654Z"
    }
   }
  },
  {
   "cell_type": "code",
   "execution_count": 18,
   "outputs": [
    {
     "name": "stdout",
     "output_type": "stream",
     "text": [
      "Original Ethnicity Values:\n",
      "WHITE                                                       40996\n",
      "BLACK/AFRICAN AMERICAN                                       5440\n",
      "UNKNOWN/NOT SPECIFIED                                        4523\n",
      "HISPANIC OR LATINO                                           1696\n",
      "OTHER                                                        1512\n",
      "ASIAN                                                        1509\n",
      "UNABLE TO OBTAIN                                              814\n",
      "PATIENT DECLINED TO ANSWER                                    559\n",
      "ASIAN - CHINESE                                               277\n",
      "HISPANIC/LATINO - PUERTO RICAN                                232\n",
      "BLACK/CAPE VERDEAN                                            200\n",
      "WHITE - RUSSIAN                                               164\n",
      "MULTI RACE ETHNICITY                                          130\n",
      "BLACK/HAITIAN                                                 101\n",
      "ASIAN - ASIAN INDIAN                                           85\n",
      "WHITE - OTHER EUROPEAN                                         81\n",
      "HISPANIC/LATINO - DOMINICAN                                    78\n",
      "PORTUGUESE                                                     61\n",
      "WHITE - BRAZILIAN                                              59\n",
      "ASIAN - VIETNAMESE                                             53\n",
      "AMERICAN INDIAN/ALASKA NATIVE                                  51\n",
      "BLACK/AFRICAN                                                  44\n",
      "MIDDLE EASTERN                                                 43\n",
      "HISPANIC/LATINO - GUATEMALAN                                   40\n",
      "ASIAN - FILIPINO                                               25\n",
      "WHITE - EASTERN EUROPEAN                                       25\n",
      "HISPANIC/LATINO - CUBAN                                        24\n",
      "HISPANIC/LATINO - SALVADORAN                                   19\n",
      "NATIVE HAWAIIAN OR OTHER PACIFIC ISLANDER                      18\n",
      "ASIAN - OTHER                                                  17\n",
      "ASIAN - CAMBODIAN                                              17\n",
      "HISPANIC/LATINO - CENTRAL AMERICAN (OTHER)                     13\n",
      "HISPANIC/LATINO - MEXICAN                                      13\n",
      "ASIAN - KOREAN                                                 13\n",
      "CARIBBEAN ISLAND                                                9\n",
      "HISPANIC/LATINO - COLOMBIAN                                     9\n",
      "SOUTH AMERICAN                                                  8\n",
      "ASIAN - JAPANESE                                                7\n",
      "ASIAN - THAI                                                    4\n",
      "HISPANIC/LATINO - HONDURAN                                      4\n",
      "AMERICAN INDIAN/ALASKA NATIVE FEDERALLY RECOGNIZED TRIBE        3\n",
      "Name: ETHNICITY, dtype: int64\n",
      "Null Values: 0 (0.0%)\n",
      "Distinct values: 41\n",
      "Majority Class: WHITE (0.695130222463375%) - Minority Class: AMERICAN INDIAN/ALASKA NATIVE FEDERALLY RECOGNIZED TRIBE (5.086814975583288e-05%)\n"
     ]
    }
   ],
   "source": [
    "print(\"Original Ethnicity Values:\")\n",
    "print(adm.ETHNICITY.value_counts())\n",
    "print(\"Null Values: {} ({}%)\".format(adm.ETHNICITY.isna().sum(), adm.ETHNICITY.isna().sum()/adm.shape[0]))\n",
    "print(\"Distinct values: {}\".format(len(adm.ETHNICITY.value_counts())))\n",
    "print(\"Majority Class: {} ({}%) - Minority Class: {} ({}%)\".format(\n",
    "    adm.ETHNICITY.value_counts().keys()[0],\n",
    "    adm.ETHNICITY.value_counts()[0]/adm.shape[0],\n",
    "    adm.ETHNICITY.value_counts().keys()[-1],\n",
    "    adm.ETHNICITY.value_counts()[-1]/adm.shape[0]\n",
    "))"
   ],
   "metadata": {
    "collapsed": false,
    "ExecuteTime": {
     "start_time": "2023-08-22T23:23:03.324372Z",
     "end_time": "2023-08-22T23:23:03.382965Z"
    }
   }
  },
  {
   "cell_type": "code",
   "execution_count": 19,
   "outputs": [
    {
     "name": "stdout",
     "output_type": "stream",
     "text": [
      "Binarized Ethnicity Values:\n",
      "1    41325\n",
      "0    17651\n",
      "Name: ETHNICITY, dtype: int64\n"
     ]
    }
   ],
   "source": [
    "adm.ETHNICITY =adm.ETHNICITY.apply(lambda ethnicity: get_ethnicity_category(ethnicity))\n",
    "print(\"Binarized Ethnicity Values:\")\n",
    "print(adm.ETHNICITY.value_counts())"
   ],
   "metadata": {
    "collapsed": false,
    "ExecuteTime": {
     "start_time": "2023-08-22T23:23:04.452820Z",
     "end_time": "2023-08-22T23:23:04.521725Z"
    }
   }
  },
  {
   "cell_type": "code",
   "execution_count": 20,
   "outputs": [
    {
     "name": "stdout",
     "output_type": "stream",
     "text": [
      "Null Values: 0 (0.0%)\n",
      "Distinct values: 2\n",
      "Majority Class: M (0.5587018448182312%) - Minority Class: F (0.44129815518176885%)\n"
     ]
    }
   ],
   "source": [
    "print(\"Null Values: {} ({}%)\".format(adm.GENDER.isna().sum(), adm.GENDER.isna().sum()/adm.shape[0]))\n",
    "print(\"Distinct values: {}\".format(len(adm.GENDER.value_counts())))\n",
    "print(\"Majority Class: {} ({}%) - Minority Class: {} ({}%)\".format(\n",
    "    adm.GENDER.value_counts().keys()[0],\n",
    "    adm.GENDER.value_counts()[0]/adm.shape[0],\n",
    "    adm.GENDER.value_counts().keys()[-1],\n",
    "    adm.GENDER.value_counts()[-1]/adm.shape[0]\n",
    "))"
   ],
   "metadata": {
    "collapsed": false,
    "ExecuteTime": {
     "start_time": "2023-08-22T23:23:05.757228Z",
     "end_time": "2023-08-22T23:23:05.852438Z"
    }
   }
  },
  {
   "cell_type": "code",
   "execution_count": 21,
   "outputs": [],
   "source": [
    "adm.GENDER = adm.GENDER.apply(lambda gender: 0 if gender == \"F\" else 1)"
   ],
   "metadata": {
    "collapsed": false,
    "ExecuteTime": {
     "start_time": "2023-08-22T23:23:06.317666Z",
     "end_time": "2023-08-22T23:23:06.357510Z"
    }
   }
  },
  {
   "cell_type": "code",
   "execution_count": 22,
   "outputs": [
    {
     "name": "stdout",
     "output_type": "stream",
     "text": [
      "Records w/ duplicates per user: 58976\n",
      "Records w/0 duplicates per user: 46520\n"
     ]
    }
   ],
   "source": [
    "adm.drop(['ADMITTIME', 'DOB'], axis=1, inplace=True)\n",
    "print(\"Records w/ duplicates per user: {}\".format(adm.shape[0]))\n",
    "adm.drop_duplicates(subset=['SUBJECT_ID'], keep='last', inplace=True)  # keep the latest demographics per user\n",
    "print(\"Records w/0 duplicates per user: {}\".format(adm.shape[0]))"
   ],
   "metadata": {
    "collapsed": false,
    "ExecuteTime": {
     "start_time": "2023-08-22T23:23:07.676996Z",
     "end_time": "2023-08-22T23:23:07.728299Z"
    }
   }
  },
  {
   "cell_type": "code",
   "execution_count": 23,
   "outputs": [
    {
     "data": {
      "text/plain": "     SUBJECT_ID  LANGUAGE  INSURANCE  RELIGION  ETHNICITY  GENDER  AGE\n0            22         1          1         1          1       0    1\n2            23         1          1         1          1       1    0\n3            24         1          1         1          1       1    1\n4            25         1          1         1          1       1    1\n5            26         1          1         1          0       1    0\n6            27         1          1         1          1       0    0\n7            28         1          1         1          1       1    0\n8            30         1          1         1          0       1    0\n9            31         1          1         1          1       1    0\n10           32         1          1         1          1       1    1\n11           33         1          1         1          0       1    0\n13           34         1          1         1          1       1    0\n14           35         1          1         1          1       0    0\n17           36         1          1         1          1       1    0\n18           37         1          1         0          1       1    0\n19           38         1          1         1          1       1    0\n20           39         1          1         1          0       0    0\n21           41         1          1         1          1       1    1\n26          357         1          1         1          1       1    1\n27          358         1          1         1          1       0    0\n28          359         0          0         0          0       1    1\n29          360         1          1         1          1       0    0\n31          361         0          1         1          0       1    1\n33          362         1          1         1          1       0    0\n34          363         1          1         1          0       0    0\n35          364         1          1         1          0       1    0\n36          365         1          1         0          1       1    1\n37          366         1          1         1          0       1    1\n38          367         1          1         1          1       0    1\n40          368         1          1         1          1       1    0\n..          ...       ...        ...       ...        ...     ...  ...\n84           81         1          1         1          1       1    0\n85           82         1          1         1          0       1    0\n86           83         1          1         1          0       0    0\n88           84         1          1         0          1       0    1\n90           85         1          1         1          1       1    0\n91           86         1          1         1          1       0    1\n92           87         1          1         1          0       1    0\n93           88         1          1         1          0       1    1\n94           89         1          1         1          0       0    0\n95           91         1          1         0          1       0    0\n96           92         1          1         1          1       0    0\n97           93         1          1         1          1       0    0\n99           94         0          1         1          0       1    0\n100          95         1          1         1          0       1    1\n101          96         1          1         1          1       1    1\n102          97         1          1         1          0       1    0\n103          98         1          1         1          1       0    1\n104          99         1          1         0          1       1    0\n105         100         1          1         1          0       0    0\n106         101         1          1         1          0       1    0\n107         102         1          1         1          1       1    0\n109         103         1          1         1          0       0    1\n110         104         1          1         1          0       1    0\n112         105         1          1         1          0       0    1\n113         106         1          1         1          0       1    1\n116         107         1          1         1          0       1    0\n117         108         1          1         1          1       1    0\n131         125         0          1         1          0       0    1\n132         126         1          1         1          1       0    0\n133         127         1          1         1          1       0    1\n\n[100 rows x 7 columns]",
      "text/html": "<div>\n<style scoped>\n    .dataframe tbody tr th:only-of-type {\n        vertical-align: middle;\n    }\n\n    .dataframe tbody tr th {\n        vertical-align: top;\n    }\n\n    .dataframe thead th {\n        text-align: right;\n    }\n</style>\n<table border=\"1\" class=\"dataframe\">\n  <thead>\n    <tr style=\"text-align: right;\">\n      <th></th>\n      <th>SUBJECT_ID</th>\n      <th>LANGUAGE</th>\n      <th>INSURANCE</th>\n      <th>RELIGION</th>\n      <th>ETHNICITY</th>\n      <th>GENDER</th>\n      <th>AGE</th>\n    </tr>\n  </thead>\n  <tbody>\n    <tr>\n      <th>0</th>\n      <td>22</td>\n      <td>1</td>\n      <td>1</td>\n      <td>1</td>\n      <td>1</td>\n      <td>0</td>\n      <td>1</td>\n    </tr>\n    <tr>\n      <th>2</th>\n      <td>23</td>\n      <td>1</td>\n      <td>1</td>\n      <td>1</td>\n      <td>1</td>\n      <td>1</td>\n      <td>0</td>\n    </tr>\n    <tr>\n      <th>3</th>\n      <td>24</td>\n      <td>1</td>\n      <td>1</td>\n      <td>1</td>\n      <td>1</td>\n      <td>1</td>\n      <td>1</td>\n    </tr>\n    <tr>\n      <th>4</th>\n      <td>25</td>\n      <td>1</td>\n      <td>1</td>\n      <td>1</td>\n      <td>1</td>\n      <td>1</td>\n      <td>1</td>\n    </tr>\n    <tr>\n      <th>5</th>\n      <td>26</td>\n      <td>1</td>\n      <td>1</td>\n      <td>1</td>\n      <td>0</td>\n      <td>1</td>\n      <td>0</td>\n    </tr>\n    <tr>\n      <th>6</th>\n      <td>27</td>\n      <td>1</td>\n      <td>1</td>\n      <td>1</td>\n      <td>1</td>\n      <td>0</td>\n      <td>0</td>\n    </tr>\n    <tr>\n      <th>7</th>\n      <td>28</td>\n      <td>1</td>\n      <td>1</td>\n      <td>1</td>\n      <td>1</td>\n      <td>1</td>\n      <td>0</td>\n    </tr>\n    <tr>\n      <th>8</th>\n      <td>30</td>\n      <td>1</td>\n      <td>1</td>\n      <td>1</td>\n      <td>0</td>\n      <td>1</td>\n      <td>0</td>\n    </tr>\n    <tr>\n      <th>9</th>\n      <td>31</td>\n      <td>1</td>\n      <td>1</td>\n      <td>1</td>\n      <td>1</td>\n      <td>1</td>\n      <td>0</td>\n    </tr>\n    <tr>\n      <th>10</th>\n      <td>32</td>\n      <td>1</td>\n      <td>1</td>\n      <td>1</td>\n      <td>1</td>\n      <td>1</td>\n      <td>1</td>\n    </tr>\n    <tr>\n      <th>11</th>\n      <td>33</td>\n      <td>1</td>\n      <td>1</td>\n      <td>1</td>\n      <td>0</td>\n      <td>1</td>\n      <td>0</td>\n    </tr>\n    <tr>\n      <th>13</th>\n      <td>34</td>\n      <td>1</td>\n      <td>1</td>\n      <td>1</td>\n      <td>1</td>\n      <td>1</td>\n      <td>0</td>\n    </tr>\n    <tr>\n      <th>14</th>\n      <td>35</td>\n      <td>1</td>\n      <td>1</td>\n      <td>1</td>\n      <td>1</td>\n      <td>0</td>\n      <td>0</td>\n    </tr>\n    <tr>\n      <th>17</th>\n      <td>36</td>\n      <td>1</td>\n      <td>1</td>\n      <td>1</td>\n      <td>1</td>\n      <td>1</td>\n      <td>0</td>\n    </tr>\n    <tr>\n      <th>18</th>\n      <td>37</td>\n      <td>1</td>\n      <td>1</td>\n      <td>0</td>\n      <td>1</td>\n      <td>1</td>\n      <td>0</td>\n    </tr>\n    <tr>\n      <th>19</th>\n      <td>38</td>\n      <td>1</td>\n      <td>1</td>\n      <td>1</td>\n      <td>1</td>\n      <td>1</td>\n      <td>0</td>\n    </tr>\n    <tr>\n      <th>20</th>\n      <td>39</td>\n      <td>1</td>\n      <td>1</td>\n      <td>1</td>\n      <td>0</td>\n      <td>0</td>\n      <td>0</td>\n    </tr>\n    <tr>\n      <th>21</th>\n      <td>41</td>\n      <td>1</td>\n      <td>1</td>\n      <td>1</td>\n      <td>1</td>\n      <td>1</td>\n      <td>1</td>\n    </tr>\n    <tr>\n      <th>26</th>\n      <td>357</td>\n      <td>1</td>\n      <td>1</td>\n      <td>1</td>\n      <td>1</td>\n      <td>1</td>\n      <td>1</td>\n    </tr>\n    <tr>\n      <th>27</th>\n      <td>358</td>\n      <td>1</td>\n      <td>1</td>\n      <td>1</td>\n      <td>1</td>\n      <td>0</td>\n      <td>0</td>\n    </tr>\n    <tr>\n      <th>28</th>\n      <td>359</td>\n      <td>0</td>\n      <td>0</td>\n      <td>0</td>\n      <td>0</td>\n      <td>1</td>\n      <td>1</td>\n    </tr>\n    <tr>\n      <th>29</th>\n      <td>360</td>\n      <td>1</td>\n      <td>1</td>\n      <td>1</td>\n      <td>1</td>\n      <td>0</td>\n      <td>0</td>\n    </tr>\n    <tr>\n      <th>31</th>\n      <td>361</td>\n      <td>0</td>\n      <td>1</td>\n      <td>1</td>\n      <td>0</td>\n      <td>1</td>\n      <td>1</td>\n    </tr>\n    <tr>\n      <th>33</th>\n      <td>362</td>\n      <td>1</td>\n      <td>1</td>\n      <td>1</td>\n      <td>1</td>\n      <td>0</td>\n      <td>0</td>\n    </tr>\n    <tr>\n      <th>34</th>\n      <td>363</td>\n      <td>1</td>\n      <td>1</td>\n      <td>1</td>\n      <td>0</td>\n      <td>0</td>\n      <td>0</td>\n    </tr>\n    <tr>\n      <th>35</th>\n      <td>364</td>\n      <td>1</td>\n      <td>1</td>\n      <td>1</td>\n      <td>0</td>\n      <td>1</td>\n      <td>0</td>\n    </tr>\n    <tr>\n      <th>36</th>\n      <td>365</td>\n      <td>1</td>\n      <td>1</td>\n      <td>0</td>\n      <td>1</td>\n      <td>1</td>\n      <td>1</td>\n    </tr>\n    <tr>\n      <th>37</th>\n      <td>366</td>\n      <td>1</td>\n      <td>1</td>\n      <td>1</td>\n      <td>0</td>\n      <td>1</td>\n      <td>1</td>\n    </tr>\n    <tr>\n      <th>38</th>\n      <td>367</td>\n      <td>1</td>\n      <td>1</td>\n      <td>1</td>\n      <td>1</td>\n      <td>0</td>\n      <td>1</td>\n    </tr>\n    <tr>\n      <th>40</th>\n      <td>368</td>\n      <td>1</td>\n      <td>1</td>\n      <td>1</td>\n      <td>1</td>\n      <td>1</td>\n      <td>0</td>\n    </tr>\n    <tr>\n      <th>...</th>\n      <td>...</td>\n      <td>...</td>\n      <td>...</td>\n      <td>...</td>\n      <td>...</td>\n      <td>...</td>\n      <td>...</td>\n    </tr>\n    <tr>\n      <th>84</th>\n      <td>81</td>\n      <td>1</td>\n      <td>1</td>\n      <td>1</td>\n      <td>1</td>\n      <td>1</td>\n      <td>0</td>\n    </tr>\n    <tr>\n      <th>85</th>\n      <td>82</td>\n      <td>1</td>\n      <td>1</td>\n      <td>1</td>\n      <td>0</td>\n      <td>1</td>\n      <td>0</td>\n    </tr>\n    <tr>\n      <th>86</th>\n      <td>83</td>\n      <td>1</td>\n      <td>1</td>\n      <td>1</td>\n      <td>0</td>\n      <td>0</td>\n      <td>0</td>\n    </tr>\n    <tr>\n      <th>88</th>\n      <td>84</td>\n      <td>1</td>\n      <td>1</td>\n      <td>0</td>\n      <td>1</td>\n      <td>0</td>\n      <td>1</td>\n    </tr>\n    <tr>\n      <th>90</th>\n      <td>85</td>\n      <td>1</td>\n      <td>1</td>\n      <td>1</td>\n      <td>1</td>\n      <td>1</td>\n      <td>0</td>\n    </tr>\n    <tr>\n      <th>91</th>\n      <td>86</td>\n      <td>1</td>\n      <td>1</td>\n      <td>1</td>\n      <td>1</td>\n      <td>0</td>\n      <td>1</td>\n    </tr>\n    <tr>\n      <th>92</th>\n      <td>87</td>\n      <td>1</td>\n      <td>1</td>\n      <td>1</td>\n      <td>0</td>\n      <td>1</td>\n      <td>0</td>\n    </tr>\n    <tr>\n      <th>93</th>\n      <td>88</td>\n      <td>1</td>\n      <td>1</td>\n      <td>1</td>\n      <td>0</td>\n      <td>1</td>\n      <td>1</td>\n    </tr>\n    <tr>\n      <th>94</th>\n      <td>89</td>\n      <td>1</td>\n      <td>1</td>\n      <td>1</td>\n      <td>0</td>\n      <td>0</td>\n      <td>0</td>\n    </tr>\n    <tr>\n      <th>95</th>\n      <td>91</td>\n      <td>1</td>\n      <td>1</td>\n      <td>0</td>\n      <td>1</td>\n      <td>0</td>\n      <td>0</td>\n    </tr>\n    <tr>\n      <th>96</th>\n      <td>92</td>\n      <td>1</td>\n      <td>1</td>\n      <td>1</td>\n      <td>1</td>\n      <td>0</td>\n      <td>0</td>\n    </tr>\n    <tr>\n      <th>97</th>\n      <td>93</td>\n      <td>1</td>\n      <td>1</td>\n      <td>1</td>\n      <td>1</td>\n      <td>0</td>\n      <td>0</td>\n    </tr>\n    <tr>\n      <th>99</th>\n      <td>94</td>\n      <td>0</td>\n      <td>1</td>\n      <td>1</td>\n      <td>0</td>\n      <td>1</td>\n      <td>0</td>\n    </tr>\n    <tr>\n      <th>100</th>\n      <td>95</td>\n      <td>1</td>\n      <td>1</td>\n      <td>1</td>\n      <td>0</td>\n      <td>1</td>\n      <td>1</td>\n    </tr>\n    <tr>\n      <th>101</th>\n      <td>96</td>\n      <td>1</td>\n      <td>1</td>\n      <td>1</td>\n      <td>1</td>\n      <td>1</td>\n      <td>1</td>\n    </tr>\n    <tr>\n      <th>102</th>\n      <td>97</td>\n      <td>1</td>\n      <td>1</td>\n      <td>1</td>\n      <td>0</td>\n      <td>1</td>\n      <td>0</td>\n    </tr>\n    <tr>\n      <th>103</th>\n      <td>98</td>\n      <td>1</td>\n      <td>1</td>\n      <td>1</td>\n      <td>1</td>\n      <td>0</td>\n      <td>1</td>\n    </tr>\n    <tr>\n      <th>104</th>\n      <td>99</td>\n      <td>1</td>\n      <td>1</td>\n      <td>0</td>\n      <td>1</td>\n      <td>1</td>\n      <td>0</td>\n    </tr>\n    <tr>\n      <th>105</th>\n      <td>100</td>\n      <td>1</td>\n      <td>1</td>\n      <td>1</td>\n      <td>0</td>\n      <td>0</td>\n      <td>0</td>\n    </tr>\n    <tr>\n      <th>106</th>\n      <td>101</td>\n      <td>1</td>\n      <td>1</td>\n      <td>1</td>\n      <td>0</td>\n      <td>1</td>\n      <td>0</td>\n    </tr>\n    <tr>\n      <th>107</th>\n      <td>102</td>\n      <td>1</td>\n      <td>1</td>\n      <td>1</td>\n      <td>1</td>\n      <td>1</td>\n      <td>0</td>\n    </tr>\n    <tr>\n      <th>109</th>\n      <td>103</td>\n      <td>1</td>\n      <td>1</td>\n      <td>1</td>\n      <td>0</td>\n      <td>0</td>\n      <td>1</td>\n    </tr>\n    <tr>\n      <th>110</th>\n      <td>104</td>\n      <td>1</td>\n      <td>1</td>\n      <td>1</td>\n      <td>0</td>\n      <td>1</td>\n      <td>0</td>\n    </tr>\n    <tr>\n      <th>112</th>\n      <td>105</td>\n      <td>1</td>\n      <td>1</td>\n      <td>1</td>\n      <td>0</td>\n      <td>0</td>\n      <td>1</td>\n    </tr>\n    <tr>\n      <th>113</th>\n      <td>106</td>\n      <td>1</td>\n      <td>1</td>\n      <td>1</td>\n      <td>0</td>\n      <td>1</td>\n      <td>1</td>\n    </tr>\n    <tr>\n      <th>116</th>\n      <td>107</td>\n      <td>1</td>\n      <td>1</td>\n      <td>1</td>\n      <td>0</td>\n      <td>1</td>\n      <td>0</td>\n    </tr>\n    <tr>\n      <th>117</th>\n      <td>108</td>\n      <td>1</td>\n      <td>1</td>\n      <td>1</td>\n      <td>1</td>\n      <td>1</td>\n      <td>0</td>\n    </tr>\n    <tr>\n      <th>131</th>\n      <td>125</td>\n      <td>0</td>\n      <td>1</td>\n      <td>1</td>\n      <td>0</td>\n      <td>0</td>\n      <td>1</td>\n    </tr>\n    <tr>\n      <th>132</th>\n      <td>126</td>\n      <td>1</td>\n      <td>1</td>\n      <td>1</td>\n      <td>1</td>\n      <td>0</td>\n      <td>0</td>\n    </tr>\n    <tr>\n      <th>133</th>\n      <td>127</td>\n      <td>1</td>\n      <td>1</td>\n      <td>1</td>\n      <td>1</td>\n      <td>0</td>\n      <td>1</td>\n    </tr>\n  </tbody>\n</table>\n<p>100 rows × 7 columns</p>\n</div>"
     },
     "execution_count": 23,
     "metadata": {},
     "output_type": "execute_result"
    }
   ],
   "source": [
    "adm.head(100)"
   ],
   "metadata": {
    "collapsed": false,
    "ExecuteTime": {
     "start_time": "2023-08-22T23:23:07.975413Z",
     "end_time": "2023-08-22T23:23:08.036616Z"
    }
   }
  },
  {
   "cell_type": "code",
   "execution_count": 24,
   "outputs": [
    {
     "name": "stdout",
     "output_type": "stream",
     "text": [
      "Demographics file saved at: C:\\Users\\syfan\\PycharmProjects\\mimic3-benchmarks\\data\\demographics_viz.csv\n"
     ]
    }
   ],
   "source": [
    "adm.to_csv(os.path.join(mimic3_path, 'demographics_viz.csv'), index=False)\n",
    "print(\"Demographics file saved at: {}\".format(os.path.join(mimic3_path, 'demographics_viz.csv')))"
   ],
   "metadata": {
    "collapsed": false,
    "ExecuteTime": {
     "start_time": "2023-08-22T23:23:24.789567Z",
     "end_time": "2023-08-22T23:23:25.036556Z"
    }
   }
  },
  {
   "cell_type": "code",
   "execution_count": null,
   "outputs": [],
   "source": [],
   "metadata": {
    "collapsed": false
   }
  }
 ],
 "metadata": {
  "kernelspec": {
   "display_name": "Python 3",
   "language": "python",
   "name": "python3"
  },
  "language_info": {
   "codemirror_mode": {
    "name": "ipython",
    "version": 2
   },
   "file_extension": ".py",
   "mimetype": "text/x-python",
   "name": "python",
   "nbconvert_exporter": "python",
   "pygments_lexer": "ipython2",
   "version": "2.7.6"
  }
 },
 "nbformat": 4,
 "nbformat_minor": 0
}
